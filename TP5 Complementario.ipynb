{
 "cells": [
  {
   "cell_type": "markdown",
   "id": "7928f8b3",
   "metadata": {},
   "source": [
    "# TP5 Complementario"
   ]
  },
  {
   "cell_type": "code",
   "execution_count": 2,
   "id": "6bde4294",
   "metadata": {},
   "outputs": [],
   "source": [
    "import matplotlib as mpl\n",
    "import matplotlib.pyplot as plt\n",
    "import seaborn as sns\n",
    "import pandas as pd\n",
    "import numpy as np\n",
    "import missingno as msno\n",
    "from sklearn.preprocessing import StandardScaler\n",
    "from sklearn.datasets import load_breast_cancer\n",
    "from sklearn.ensemble import RandomForestClassifier\n",
    "from sklearn.model_selection import train_test_split\n",
    "from sklearn import metrics\n",
    "from sklearn.tree import DecisionTreeClassifier\n",
    "from sklearn.metrics import accuracy_score\n",
    "from sklearn.metrics import classification_report\n",
    "from sklearn.svm import SVC\n",
    "from sklearn.neighbors import KNeighborsClassifier\n",
    "from sklearn.ensemble import RandomForestRegressor\n",
    "from sklearn.metrics import mean_absolute_error\n",
    "from sklearn.metrics import mean_squared_error\n",
    "from sklearn.metrics import r2_score\n",
    "from sklearn.linear_model import LinearRegression\n",
    "from sklearn.preprocessing import LabelEncoder\n",
    "from sklearn.preprocessing import RobustScaler\n",
    "import statsmodels as sm\n",
    "from statsmodels.api import OLS\n",
    "from sklearn.svm import SVC"
   ]
  },
  {
   "cell_type": "code",
   "execution_count": 3,
   "id": "a85cf83d",
   "metadata": {},
   "outputs": [
    {
     "name": "stdout",
     "output_type": "stream",
     "text": [
      "Requirement already satisfied: scikit-learn in e:\\anaconda\\lib\\site-packages (1.3.0)\n",
      "Requirement already satisfied: numpy>=1.17.3 in e:\\anaconda\\lib\\site-packages (from scikit-learn) (1.24.3)\n",
      "Requirement already satisfied: scipy>=1.5.0 in e:\\anaconda\\lib\\site-packages (from scikit-learn) (1.10.1)\n",
      "Requirement already satisfied: joblib>=1.1.1 in e:\\anaconda\\lib\\site-packages (from scikit-learn) (1.2.0)\n",
      "Requirement already satisfied: threadpoolctl>=2.0.0 in e:\\anaconda\\lib\\site-packages (from scikit-learn) (2.2.0)\n",
      "Note: you may need to restart the kernel to use updated packages.\n"
     ]
    }
   ],
   "source": [
    "pip install scikit-learn\n"
   ]
  },
  {
   "cell_type": "code",
   "execution_count": 5,
   "id": "d5030322",
   "metadata": {},
   "outputs": [
    {
     "data": {
      "text/plain": [
       "(   ORDEN                 ARMAS_MEDIOS          BARRIOS_HECHO   LATITUD  \\\n",
       " 0  50946  ARMA BLANCA / CORTOPUNZANTE                KENNEDY  7.153943   \n",
       " 1  50947  ARMA BLANCA / CORTOPUNZANTE     CABECERA DEL LLANO  7.116619   \n",
       " 2  50948  ARMA BLANCA / CORTOPUNZANTE            VILLA MARIA  7.154916   \n",
       " 3  50949  ARMA BLANCA / CORTOPUNZANTE  VILLAS DE SAN IGNACIO  7.156274   \n",
       " 4  50950  ARMA BLANCA / CORTOPUNZANTE                 GAITAN  7.130512   \n",
       " \n",
       "     LONGITUD    ZONA              NOM_COMUNA   ANO    MES  DIA  DIA_SEMANA  \\\n",
       " 0 -73.136794  URBANA               01. Norte  2015  Enero    1  04. Jueves   \n",
       " 1 -73.109865  URBANA  12. Cabecera del Llano  2015  Enero    1  04. Jueves   \n",
       " 2 -73.130231  URBANA        02. Nor Oriental  2015  Enero    1  04. Jueves   \n",
       " 3 -73.142024  URBANA               01. Norte  2015  Enero    1  04. Jueves   \n",
       " 4 -73.131001  URBANA          04. Occidental  2015  Enero    1  04. Jueves   \n",
       " \n",
       "                 DESCRIPCION_CONDUCTA             CONDUCTA  \\\n",
       " 0            ARTÍCULO 103. HOMICIDIO            HOMICIDIO   \n",
       " 1  ARTÍCULO 111. LESIONES PERSONALES  LESIONES PERSONALES   \n",
       " 2  ARTÍCULO 111. LESIONES PERSONALES  LESIONES PERSONALES   \n",
       " 3  ARTÍCULO 111. LESIONES PERSONALES  LESIONES PERSONALES   \n",
       " 4     ARTÍCULO 239. HURTO A PERSONAS     HURTO A PERSONAS   \n",
       " \n",
       "   CLASIFICACIONES DELITO  EDAD CURSO_DE_VIDA ESTADO_CIVIL_PERSONA     GENERO  \\\n",
       " 0       Lesiones fatales    28   04. Jovenes          UNION LIBRE  MASCULINO   \n",
       " 1    Lesiones no fatales    40   05. Adultez              SOLTERO  MASCULINO   \n",
       " 2    Lesiones no fatales    18   04. Jovenes              SOLTERO  MASCULINO   \n",
       " 3    Lesiones no fatales    37   05. Adultez          UNION LIBRE   FEMENINO   \n",
       " 4    Lesiones no fatales    18   04. Jovenes              SOLTERO  MASCULINO   \n",
       " \n",
       "   MOVIL_AGRESOR MOVIL_VICTIMA  \n",
       " 0         A PIE         A PIE  \n",
       " 1         A PIE         A PIE  \n",
       " 2         A PIE         A PIE  \n",
       " 3         A PIE         A PIE  \n",
       " 4         A PIE         A PIE  ,)"
      ]
     },
     "execution_count": 5,
     "metadata": {},
     "output_type": "execute_result"
    }
   ],
   "source": [
    "df=pd.read_excel(\"bucaramangadltos.xlsx\")\n",
    "df.head(),"
   ]
  },
  {
   "cell_type": "code",
   "execution_count": 6,
   "id": "4bc8e286",
   "metadata": {},
   "outputs": [],
   "source": [
    "df['ANO'] = pd.to_datetime(df['ANO'], format='%Y')\n",
    "df['ANO'] = df['ANO'].dt.year\n",
    "#se convierte la columna ANO a datatime"
   ]
  },
  {
   "cell_type": "code",
   "execution_count": 7,
   "id": "70085488",
   "metadata": {},
   "outputs": [],
   "source": [
    "df = df.rename(columns={\"CLASIFICACIONES DELITO\": \"CLASIFICACIONES_DELITO\"})"
   ]
  },
  {
   "cell_type": "code",
   "execution_count": 8,
   "id": "10695dc0",
   "metadata": {},
   "outputs": [],
   "source": [
    "df = df.rename(columns={\"ANO\": \"ANIO\"})"
   ]
  },
  {
   "cell_type": "code",
   "execution_count": 9,
   "id": "515ec32d",
   "metadata": {},
   "outputs": [],
   "source": [
    "df=df.drop(columns=[\"LATITUD\",\"LONGITUD\",\"ORDEN\"]) #Se eliminan estas columnas ya que no aportarán datos"
   ]
  },
  {
   "cell_type": "code",
   "execution_count": 10,
   "id": "d01e1c92",
   "metadata": {},
   "outputs": [
    {
     "data": {
      "text/html": [
       "<div>\n",
       "<style scoped>\n",
       "    .dataframe tbody tr th:only-of-type {\n",
       "        vertical-align: middle;\n",
       "    }\n",
       "\n",
       "    .dataframe tbody tr th {\n",
       "        vertical-align: top;\n",
       "    }\n",
       "\n",
       "    .dataframe thead th {\n",
       "        text-align: right;\n",
       "    }\n",
       "</style>\n",
       "<table border=\"1\" class=\"dataframe\">\n",
       "  <thead>\n",
       "    <tr style=\"text-align: right;\">\n",
       "      <th></th>\n",
       "      <th>ARMAS_MEDIOS</th>\n",
       "      <th>BARRIOS_HECHO</th>\n",
       "      <th>ZONA</th>\n",
       "      <th>NOM_COMUNA</th>\n",
       "      <th>ANIO</th>\n",
       "      <th>MES</th>\n",
       "      <th>DIA</th>\n",
       "      <th>DIA_SEMANA</th>\n",
       "      <th>DESCRIPCION_CONDUCTA</th>\n",
       "      <th>CONDUCTA</th>\n",
       "      <th>CLASIFICACIONES_DELITO</th>\n",
       "      <th>EDAD</th>\n",
       "      <th>CURSO_DE_VIDA</th>\n",
       "      <th>ESTADO_CIVIL_PERSONA</th>\n",
       "      <th>GENERO</th>\n",
       "      <th>MOVIL_AGRESOR</th>\n",
       "      <th>MOVIL_VICTIMA</th>\n",
       "    </tr>\n",
       "  </thead>\n",
       "  <tbody>\n",
       "    <tr>\n",
       "      <th>0</th>\n",
       "      <td>ARMA BLANCA / CORTOPUNZANTE</td>\n",
       "      <td>KENNEDY</td>\n",
       "      <td>URBANA</td>\n",
       "      <td>01. Norte</td>\n",
       "      <td>2015</td>\n",
       "      <td>Enero</td>\n",
       "      <td>1</td>\n",
       "      <td>04. Jueves</td>\n",
       "      <td>ARTÍCULO 103. HOMICIDIO</td>\n",
       "      <td>HOMICIDIO</td>\n",
       "      <td>Lesiones fatales</td>\n",
       "      <td>28</td>\n",
       "      <td>04. Jovenes</td>\n",
       "      <td>UNION LIBRE</td>\n",
       "      <td>MASCULINO</td>\n",
       "      <td>A PIE</td>\n",
       "      <td>A PIE</td>\n",
       "    </tr>\n",
       "    <tr>\n",
       "      <th>1</th>\n",
       "      <td>ARMA BLANCA / CORTOPUNZANTE</td>\n",
       "      <td>CABECERA DEL LLANO</td>\n",
       "      <td>URBANA</td>\n",
       "      <td>12. Cabecera del Llano</td>\n",
       "      <td>2015</td>\n",
       "      <td>Enero</td>\n",
       "      <td>1</td>\n",
       "      <td>04. Jueves</td>\n",
       "      <td>ARTÍCULO 111. LESIONES PERSONALES</td>\n",
       "      <td>LESIONES PERSONALES</td>\n",
       "      <td>Lesiones no fatales</td>\n",
       "      <td>40</td>\n",
       "      <td>05. Adultez</td>\n",
       "      <td>SOLTERO</td>\n",
       "      <td>MASCULINO</td>\n",
       "      <td>A PIE</td>\n",
       "      <td>A PIE</td>\n",
       "    </tr>\n",
       "    <tr>\n",
       "      <th>2</th>\n",
       "      <td>ARMA BLANCA / CORTOPUNZANTE</td>\n",
       "      <td>VILLA MARIA</td>\n",
       "      <td>URBANA</td>\n",
       "      <td>02. Nor Oriental</td>\n",
       "      <td>2015</td>\n",
       "      <td>Enero</td>\n",
       "      <td>1</td>\n",
       "      <td>04. Jueves</td>\n",
       "      <td>ARTÍCULO 111. LESIONES PERSONALES</td>\n",
       "      <td>LESIONES PERSONALES</td>\n",
       "      <td>Lesiones no fatales</td>\n",
       "      <td>18</td>\n",
       "      <td>04. Jovenes</td>\n",
       "      <td>SOLTERO</td>\n",
       "      <td>MASCULINO</td>\n",
       "      <td>A PIE</td>\n",
       "      <td>A PIE</td>\n",
       "    </tr>\n",
       "    <tr>\n",
       "      <th>3</th>\n",
       "      <td>ARMA BLANCA / CORTOPUNZANTE</td>\n",
       "      <td>VILLAS DE SAN IGNACIO</td>\n",
       "      <td>URBANA</td>\n",
       "      <td>01. Norte</td>\n",
       "      <td>2015</td>\n",
       "      <td>Enero</td>\n",
       "      <td>1</td>\n",
       "      <td>04. Jueves</td>\n",
       "      <td>ARTÍCULO 111. LESIONES PERSONALES</td>\n",
       "      <td>LESIONES PERSONALES</td>\n",
       "      <td>Lesiones no fatales</td>\n",
       "      <td>37</td>\n",
       "      <td>05. Adultez</td>\n",
       "      <td>UNION LIBRE</td>\n",
       "      <td>FEMENINO</td>\n",
       "      <td>A PIE</td>\n",
       "      <td>A PIE</td>\n",
       "    </tr>\n",
       "    <tr>\n",
       "      <th>4</th>\n",
       "      <td>ARMA BLANCA / CORTOPUNZANTE</td>\n",
       "      <td>GAITAN</td>\n",
       "      <td>URBANA</td>\n",
       "      <td>04. Occidental</td>\n",
       "      <td>2015</td>\n",
       "      <td>Enero</td>\n",
       "      <td>1</td>\n",
       "      <td>04. Jueves</td>\n",
       "      <td>ARTÍCULO 239. HURTO A PERSONAS</td>\n",
       "      <td>HURTO A PERSONAS</td>\n",
       "      <td>Lesiones no fatales</td>\n",
       "      <td>18</td>\n",
       "      <td>04. Jovenes</td>\n",
       "      <td>SOLTERO</td>\n",
       "      <td>MASCULINO</td>\n",
       "      <td>A PIE</td>\n",
       "      <td>A PIE</td>\n",
       "    </tr>\n",
       "  </tbody>\n",
       "</table>\n",
       "</div>"
      ],
      "text/plain": [
       "                  ARMAS_MEDIOS          BARRIOS_HECHO    ZONA  \\\n",
       "0  ARMA BLANCA / CORTOPUNZANTE                KENNEDY  URBANA   \n",
       "1  ARMA BLANCA / CORTOPUNZANTE     CABECERA DEL LLANO  URBANA   \n",
       "2  ARMA BLANCA / CORTOPUNZANTE            VILLA MARIA  URBANA   \n",
       "3  ARMA BLANCA / CORTOPUNZANTE  VILLAS DE SAN IGNACIO  URBANA   \n",
       "4  ARMA BLANCA / CORTOPUNZANTE                 GAITAN  URBANA   \n",
       "\n",
       "               NOM_COMUNA  ANIO    MES  DIA  DIA_SEMANA  \\\n",
       "0               01. Norte  2015  Enero    1  04. Jueves   \n",
       "1  12. Cabecera del Llano  2015  Enero    1  04. Jueves   \n",
       "2        02. Nor Oriental  2015  Enero    1  04. Jueves   \n",
       "3               01. Norte  2015  Enero    1  04. Jueves   \n",
       "4          04. Occidental  2015  Enero    1  04. Jueves   \n",
       "\n",
       "                DESCRIPCION_CONDUCTA             CONDUCTA  \\\n",
       "0            ARTÍCULO 103. HOMICIDIO            HOMICIDIO   \n",
       "1  ARTÍCULO 111. LESIONES PERSONALES  LESIONES PERSONALES   \n",
       "2  ARTÍCULO 111. LESIONES PERSONALES  LESIONES PERSONALES   \n",
       "3  ARTÍCULO 111. LESIONES PERSONALES  LESIONES PERSONALES   \n",
       "4     ARTÍCULO 239. HURTO A PERSONAS     HURTO A PERSONAS   \n",
       "\n",
       "  CLASIFICACIONES_DELITO  EDAD CURSO_DE_VIDA ESTADO_CIVIL_PERSONA     GENERO  \\\n",
       "0       Lesiones fatales    28   04. Jovenes          UNION LIBRE  MASCULINO   \n",
       "1    Lesiones no fatales    40   05. Adultez              SOLTERO  MASCULINO   \n",
       "2    Lesiones no fatales    18   04. Jovenes              SOLTERO  MASCULINO   \n",
       "3    Lesiones no fatales    37   05. Adultez          UNION LIBRE   FEMENINO   \n",
       "4    Lesiones no fatales    18   04. Jovenes              SOLTERO  MASCULINO   \n",
       "\n",
       "  MOVIL_AGRESOR MOVIL_VICTIMA  \n",
       "0         A PIE         A PIE  \n",
       "1         A PIE         A PIE  \n",
       "2         A PIE         A PIE  \n",
       "3         A PIE         A PIE  \n",
       "4         A PIE         A PIE  "
      ]
     },
     "execution_count": 10,
     "metadata": {},
     "output_type": "execute_result"
    }
   ],
   "source": [
    "df.head()"
   ]
  },
  {
   "cell_type": "code",
   "execution_count": 11,
   "id": "c96649b5",
   "metadata": {},
   "outputs": [],
   "source": [
    "df2 = df.copy()"
   ]
  },
  {
   "cell_type": "code",
   "execution_count": 12,
   "id": "e020f6af",
   "metadata": {},
   "outputs": [],
   "source": [
    "label_encoder = LabelEncoder()"
   ]
  },
  {
   "cell_type": "code",
   "execution_count": 13,
   "id": "0d11c634",
   "metadata": {},
   "outputs": [],
   "source": [
    "df2['ARMAS_MEDIOS'] = label_encoder.fit_transform(df2['ARMAS_MEDIOS'])\n",
    "df2['BARRIOS_HECHO'] = label_encoder.fit_transform(df2['BARRIOS_HECHO'])\n",
    "df2['ZONA'] = label_encoder.fit_transform(df2['ZONA'])\n",
    "df2['NOM_COMUNA'] = label_encoder.fit_transform(df2['NOM_COMUNA'])\n",
    "df2['BARRIOS_HECHO'] = label_encoder.fit_transform(df2['BARRIOS_HECHO'])\n",
    "df2['MES'] = label_encoder.fit_transform(df2['MES'])\n",
    "df2['DIA_SEMANA'] = label_encoder.fit_transform(df2['DIA_SEMANA'])\n",
    "df2['DESCRIPCION_CONDUCTA'] = label_encoder.fit_transform(df2['DESCRIPCION_CONDUCTA'])\n",
    "df2['CONDUCTA'] = label_encoder.fit_transform(df2['CONDUCTA'])\n",
    "df2['NOM_COMUNA'] = label_encoder.fit_transform(df2['NOM_COMUNA'])\n",
    "df2['CLASIFICACIONES_DELITO'] = label_encoder.fit_transform(df2['CLASIFICACIONES_DELITO'])\n",
    "df2['CURSO_DE_VIDA'] = label_encoder.fit_transform(df2['CURSO_DE_VIDA'])\n",
    "df2['ESTADO_CIVIL_PERSONA'] = label_encoder.fit_transform(df2['ESTADO_CIVIL_PERSONA'])\n",
    "df2['GENERO'] = label_encoder.fit_transform(df2['GENERO'])\n",
    "df2['MOVIL_AGRESOR'] = label_encoder.fit_transform(df2['MOVIL_AGRESOR'])\n",
    "df2['MOVIL_VICTIMA'] = label_encoder.fit_transform(df2['MOVIL_VICTIMA'])"
   ]
  },
  {
   "cell_type": "markdown",
   "id": "5e295ba3",
   "metadata": {},
   "source": [
    "### Se realiza un TOP 5 de variables con más correlación a la variable objetivo a predecir: CURSO_DE_VIDA"
   ]
  },
  {
   "cell_type": "code",
   "execution_count": 18,
   "id": "d884fc51",
   "metadata": {
    "scrolled": true
   },
   "outputs": [
    {
     "name": "stdout",
     "output_type": "stream",
     "text": [
      "EDAD                    0.817751\n",
      "ESTADO_CIVIL_PERSONA    0.296010\n",
      "CONDUCTA                0.141208\n",
      "DESCRIPCION_CONDUCTA    0.138682\n",
      "GENERO                  0.100626\n",
      "Name: CURSO_DE_VIDA, dtype: float64\n"
     ]
    }
   ],
   "source": [
    "correlation_matrix = df2.corr()\n",
    "correlation_matrix = df2.corr()\n",
    "correlation_with_target = correlation_matrix['CURSO_DE_VIDA'].abs().sort_values(ascending=False)\n",
    "positive_correlations = correlation_with_target[correlation_with_target > 0]\n",
    "top_5_correlations = positive_correlations[1:6]\n",
    "print(top_5_correlations)"
   ]
  },
  {
   "cell_type": "code",
   "execution_count": 19,
   "id": "19d6de23",
   "metadata": {},
   "outputs": [],
   "source": [
    "scaler = RobustScaler()"
   ]
  },
  {
   "cell_type": "code",
   "execution_count": 20,
   "id": "9ce60d71",
   "metadata": {},
   "outputs": [],
   "source": [
    "df2_scaled = scaler.fit_transform(df2)"
   ]
  },
  {
   "cell_type": "code",
   "execution_count": 21,
   "id": "a1f6eccc",
   "metadata": {},
   "outputs": [],
   "source": [
    "df2_scaled = pd.DataFrame(df2_scaled, columns=df2.columns)"
   ]
  },
  {
   "cell_type": "code",
   "execution_count": 22,
   "id": "8a419ac6",
   "metadata": {},
   "outputs": [],
   "source": [
    "df3 = df2.copy()"
   ]
  },
  {
   "cell_type": "code",
   "execution_count": 23,
   "id": "05b639f7",
   "metadata": {},
   "outputs": [],
   "source": [
    "X = df3[['EDAD',\n",
    " 'ESTADO_CIVIL_PERSONA',\n",
    " 'CONDUCTA',\n",
    " 'DESCRIPCION_CONDUCTA',\n",
    " 'GENERO']]         \n",
    "y = df3['CURSO_DE_VIDA']"
   ]
  },
  {
   "cell_type": "code",
   "execution_count": 24,
   "id": "5f0e3ada",
   "metadata": {},
   "outputs": [],
   "source": [
    "X_train, X_test, y_train, y_test = train_test_split(X, y, test_size=0.2, random_state=45)"
   ]
  },
  {
   "cell_type": "markdown",
   "id": "db8e4f01",
   "metadata": {},
   "source": [
    "## DecisionTreeClassifier"
   ]
  },
  {
   "cell_type": "code",
   "execution_count": 25,
   "id": "4cd1e905",
   "metadata": {},
   "outputs": [
    {
     "name": "stdout",
     "output_type": "stream",
     "text": [
      "Accuracy: 1.0\n",
      "Classification Report:\n",
      "              precision    recall  f1-score   support\n",
      "\n",
      "           0       1.00      1.00      1.00        74\n",
      "           1       1.00      1.00      1.00       108\n",
      "           2       1.00      1.00      1.00       608\n",
      "           3       1.00      1.00      1.00      4887\n",
      "           4       1.00      1.00      1.00      8643\n",
      "           5       1.00      1.00      1.00       900\n",
      "\n",
      "    accuracy                           1.00     15220\n",
      "   macro avg       1.00      1.00      1.00     15220\n",
      "weighted avg       1.00      1.00      1.00     15220\n",
      "\n"
     ]
    }
   ],
   "source": [
    "classifier = DecisionTreeClassifier()\n",
    "classifier.fit(X_train, y_train)\n",
    "y_pred = classifier.predict(X_test)\n",
    "accuracy = accuracy_score(y_test, y_pred)\n",
    "report = classification_report(y_test, y_pred)\n",
    "accuracy = accuracy_score(y_test, y_pred)\n",
    "report = classification_report(y_test, y_pred)\n",
    "print(f'Accuracy: {accuracy}')\n",
    "print('Classification Report:')\n",
    "print(report)"
   ]
  },
  {
   "cell_type": "markdown",
   "id": "fa791fde",
   "metadata": {},
   "source": [
    "### Se puede observar un precisión perfecta, por lo cual da a entender que los modelos se ajustan excesivamente a los datos de entrenamiento.  (Overfitting)"
   ]
  },
  {
   "cell_type": "markdown",
   "id": "fce4788c",
   "metadata": {},
   "source": [
    "## Se aplican hiperparámetros para mitigar el overfitting"
   ]
  },
  {
   "cell_type": "markdown",
   "id": "eda33745",
   "metadata": {},
   "source": [
    "### DecisionTreeClassifier  con hiperparámetros"
   ]
  },
  {
   "cell_type": "code",
   "execution_count": 30,
   "id": "668b578d",
   "metadata": {},
   "outputs": [
    {
     "name": "stdout",
     "output_type": "stream",
     "text": [
      "Accuracy: 0.8889618922470434\n",
      "Classification Report:\n",
      "              precision    recall  f1-score   support\n",
      "\n",
      "           0       0.00      0.00      0.00        74\n",
      "           1       0.00      0.00      0.00       108\n",
      "           2       0.00      0.00      0.00       608\n",
      "           3       0.86      1.00      0.93      4887\n",
      "           4       0.91      1.00      0.95      8643\n",
      "           5       0.00      0.00      0.00       900\n",
      "\n",
      "    accuracy                           0.89     15220\n",
      "   macro avg       0.29      0.33      0.31     15220\n",
      "weighted avg       0.79      0.89      0.84     15220\n",
      "\n"
     ]
    },
    {
     "name": "stderr",
     "output_type": "stream",
     "text": [
      "E:\\anaconda\\Lib\\site-packages\\sklearn\\metrics\\_classification.py:1469: UndefinedMetricWarning: Precision and F-score are ill-defined and being set to 0.0 in labels with no predicted samples. Use `zero_division` parameter to control this behavior.\n",
      "  _warn_prf(average, modifier, msg_start, len(result))\n",
      "E:\\anaconda\\Lib\\site-packages\\sklearn\\metrics\\_classification.py:1469: UndefinedMetricWarning: Precision and F-score are ill-defined and being set to 0.0 in labels with no predicted samples. Use `zero_division` parameter to control this behavior.\n",
      "  _warn_prf(average, modifier, msg_start, len(result))\n",
      "E:\\anaconda\\Lib\\site-packages\\sklearn\\metrics\\_classification.py:1469: UndefinedMetricWarning: Precision and F-score are ill-defined and being set to 0.0 in labels with no predicted samples. Use `zero_division` parameter to control this behavior.\n",
      "  _warn_prf(average, modifier, msg_start, len(result))\n"
     ]
    }
   ],
   "source": [
    "hyperparameters = {\n",
    "    'criterion': 'gini',\n",
    "    'max_depth': 1,\n",
    "    'min_samples_split': 7,\n",
    "    'min_samples_leaf': 5,\n",
    "    'max_features': None}\n",
    "\n",
    "classifier = DecisionTreeClassifier(**hyperparameters)\n",
    "classifier.fit(X_train, y_train)\n",
    "y_pred = classifier.predict(X_test)\n",
    "accuracy = accuracy_score(y_test, y_pred)\n",
    "report = classification_report(y_test, y_pred)\n",
    "print(f'Accuracy: {accuracy}')\n",
    "print('Classification Report:')\n",
    "print(report)"
   ]
  },
  {
   "cell_type": "markdown",
   "id": "2e42d4f1",
   "metadata": {},
   "source": [
    "## Se puede observar un mejor rendimiento a la hora de aplicar hiperparámetros."
   ]
  },
  {
   "cell_type": "markdown",
   "id": "1e0f1389",
   "metadata": {},
   "source": [
    "# Se utiliza otro df para ejemplificar casos de regresión."
   ]
  },
  {
   "cell_type": "markdown",
   "id": "3681f412",
   "metadata": {},
   "source": [
    "## Regresión: casos dengue"
   ]
  },
  {
   "cell_type": "markdown",
   "id": "543b2ef5",
   "metadata": {},
   "source": [
    "\n",
    "Datos correspondientes al Registro del Sistema Nacional de Vigilancia de la Salud de Dengue y Zika\n",
    "La información se obtuvo de:\n",
    "http://datos.salud.gob.ar/dataset/vigilancia-de-dengue-y-zika/archivo/ab93dc4b-4e6c-499b-9335-c548a701a870"
   ]
  },
  {
   "cell_type": "code",
   "execution_count": 28,
   "id": "65bda1bf",
   "metadata": {},
   "outputs": [
    {
     "data": {
      "text/html": [
       "<div>\n",
       "<style scoped>\n",
       "    .dataframe tbody tr th:only-of-type {\n",
       "        vertical-align: middle;\n",
       "    }\n",
       "\n",
       "    .dataframe tbody tr th {\n",
       "        vertical-align: top;\n",
       "    }\n",
       "\n",
       "    .dataframe thead th {\n",
       "        text-align: right;\n",
       "    }\n",
       "</style>\n",
       "<table border=\"1\" class=\"dataframe\">\n",
       "  <thead>\n",
       "    <tr style=\"text-align: right;\">\n",
       "      <th></th>\n",
       "      <th>ano</th>\n",
       "      <th>semana_epidemiologica</th>\n",
       "      <th>fecha_inicio_semana_epidemiologica</th>\n",
       "      <th>grupo_etario</th>\n",
       "      <th>departamento_residencia</th>\n",
       "      <th>n_notificaciones</th>\n",
       "      <th>n_confirmados_probables_fis</th>\n",
       "      <th>n_confirmados_por_laboratorio</th>\n",
       "      <th>n_internados_fecha_internacion</th>\n",
       "      <th>n_internados_uti_fecha_internacion</th>\n",
       "      <th>n_fallecidos_confirmados_por_laboratorio</th>\n",
       "    </tr>\n",
       "  </thead>\n",
       "  <tbody>\n",
       "    <tr>\n",
       "      <th>0</th>\n",
       "      <td>2022</td>\n",
       "      <td>27</td>\n",
       "      <td>2022-07-03</td>\n",
       "      <td>[40,50)</td>\n",
       "      <td>COMUNA 15</td>\n",
       "      <td>1</td>\n",
       "      <td>0</td>\n",
       "      <td>0</td>\n",
       "      <td>0</td>\n",
       "      <td>0</td>\n",
       "      <td>0</td>\n",
       "    </tr>\n",
       "    <tr>\n",
       "      <th>1</th>\n",
       "      <td>2022</td>\n",
       "      <td>28</td>\n",
       "      <td>2022-07-10</td>\n",
       "      <td>[20,30)</td>\n",
       "      <td>COMUNA 5</td>\n",
       "      <td>1</td>\n",
       "      <td>0</td>\n",
       "      <td>0</td>\n",
       "      <td>0</td>\n",
       "      <td>0</td>\n",
       "      <td>0</td>\n",
       "    </tr>\n",
       "    <tr>\n",
       "      <th>2</th>\n",
       "      <td>2022</td>\n",
       "      <td>28</td>\n",
       "      <td>2022-07-10</td>\n",
       "      <td>[40,50)</td>\n",
       "      <td>COMUNA 15</td>\n",
       "      <td>1</td>\n",
       "      <td>0</td>\n",
       "      <td>0</td>\n",
       "      <td>0</td>\n",
       "      <td>0</td>\n",
       "      <td>0</td>\n",
       "    </tr>\n",
       "    <tr>\n",
       "      <th>3</th>\n",
       "      <td>2022</td>\n",
       "      <td>28</td>\n",
       "      <td>2022-07-10</td>\n",
       "      <td>[40,50)</td>\n",
       "      <td>COMUNA 7</td>\n",
       "      <td>1</td>\n",
       "      <td>0</td>\n",
       "      <td>0</td>\n",
       "      <td>0</td>\n",
       "      <td>0</td>\n",
       "      <td>0</td>\n",
       "    </tr>\n",
       "    <tr>\n",
       "      <th>4</th>\n",
       "      <td>2022</td>\n",
       "      <td>31</td>\n",
       "      <td>2022-07-31</td>\n",
       "      <td>[30,40)</td>\n",
       "      <td>COMUNA 6</td>\n",
       "      <td>1</td>\n",
       "      <td>0</td>\n",
       "      <td>0</td>\n",
       "      <td>0</td>\n",
       "      <td>0</td>\n",
       "      <td>0</td>\n",
       "    </tr>\n",
       "  </tbody>\n",
       "</table>\n",
       "</div>"
      ],
      "text/plain": [
       "    ano  semana_epidemiologica fecha_inicio_semana_epidemiologica  \\\n",
       "0  2022                     27                         2022-07-03   \n",
       "1  2022                     28                         2022-07-10   \n",
       "2  2022                     28                         2022-07-10   \n",
       "3  2022                     28                         2022-07-10   \n",
       "4  2022                     31                         2022-07-31   \n",
       "\n",
       "  grupo_etario departamento_residencia  n_notificaciones  \\\n",
       "0      [40,50)               COMUNA 15                 1   \n",
       "1      [20,30)                COMUNA 5                 1   \n",
       "2      [40,50)               COMUNA 15                 1   \n",
       "3      [40,50)                COMUNA 7                 1   \n",
       "4      [30,40)                COMUNA 6                 1   \n",
       "\n",
       "   n_confirmados_probables_fis  n_confirmados_por_laboratorio  \\\n",
       "0                            0                              0   \n",
       "1                            0                              0   \n",
       "2                            0                              0   \n",
       "3                            0                              0   \n",
       "4                            0                              0   \n",
       "\n",
       "   n_internados_fecha_internacion  n_internados_uti_fecha_internacion  \\\n",
       "0                               0                                   0   \n",
       "1                               0                                   0   \n",
       "2                               0                                   0   \n",
       "3                               0                                   0   \n",
       "4                               0                                   0   \n",
       "\n",
       "   n_fallecidos_confirmados_por_laboratorio  \n",
       "0                                         0  \n",
       "1                                         0  \n",
       "2                                         0  \n",
       "3                                         0  \n",
       "4                                         0  "
      ]
     },
     "execution_count": 28,
     "metadata": {},
     "output_type": "execute_result"
    }
   ],
   "source": [
    "dfd=pd.read_excel(\"casos_dengue.xlsx\")\n",
    "dfd.head()"
   ]
  },
  {
   "cell_type": "code",
   "execution_count": 29,
   "id": "ed9f77c5",
   "metadata": {},
   "outputs": [
    {
     "data": {
      "text/plain": [
       "(1962, 11)"
      ]
     },
     "execution_count": 29,
     "metadata": {},
     "output_type": "execute_result"
    }
   ],
   "source": [
    "dfd.shape # posee 76099 filas y 20 columnas"
   ]
  },
  {
   "cell_type": "code",
   "execution_count": 29,
   "id": "1fcd51bf",
   "metadata": {},
   "outputs": [
    {
     "data": {
      "text/plain": [
       "Index(['ano', 'semana_epidemiologica', 'fecha_inicio_semana_epidemiologica',\n",
       "       'grupo_etario', 'departamento_residencia', 'n_notificaciones',\n",
       "       'n_confirmados_probables_fis', 'n_confirmados_por_laboratorio',\n",
       "       'n_internados_fecha_internacion', 'n_internados_uti_fecha_internacion',\n",
       "       'n_fallecidos_confirmados_por_laboratorio'],\n",
       "      dtype='object')"
      ]
     },
     "execution_count": 29,
     "metadata": {},
     "output_type": "execute_result"
    }
   ],
   "source": [
    "dfd.columns"
   ]
  },
  {
   "cell_type": "code",
   "execution_count": 30,
   "id": "287dbbf3",
   "metadata": {},
   "outputs": [
    {
     "name": "stdout",
     "output_type": "stream",
     "text": [
      "<class 'pandas.core.frame.DataFrame'>\n",
      "RangeIndex: 1962 entries, 0 to 1961\n",
      "Data columns (total 11 columns):\n",
      " #   Column                                    Non-Null Count  Dtype         \n",
      "---  ------                                    --------------  -----         \n",
      " 0   ano                                       1962 non-null   int64         \n",
      " 1   semana_epidemiologica                     1962 non-null   int64         \n",
      " 2   fecha_inicio_semana_epidemiologica        1962 non-null   datetime64[ns]\n",
      " 3   grupo_etario                              1962 non-null   object        \n",
      " 4   departamento_residencia                   1962 non-null   object        \n",
      " 5   n_notificaciones                          1962 non-null   int64         \n",
      " 6   n_confirmados_probables_fis               1962 non-null   int64         \n",
      " 7   n_confirmados_por_laboratorio             1962 non-null   int64         \n",
      " 8   n_internados_fecha_internacion            1962 non-null   int64         \n",
      " 9   n_internados_uti_fecha_internacion        1962 non-null   int64         \n",
      " 10  n_fallecidos_confirmados_por_laboratorio  1962 non-null   int64         \n",
      "dtypes: datetime64[ns](1), int64(8), object(2)\n",
      "memory usage: 168.7+ KB\n"
     ]
    }
   ],
   "source": [
    "dfd.info()"
   ]
  },
  {
   "cell_type": "code",
   "execution_count": 31,
   "id": "0dd55d27",
   "metadata": {},
   "outputs": [
    {
     "data": {
      "text/plain": [
       "<bound method NDFrame.describe of        ano  semana_epidemiologica fecha_inicio_semana_epidemiologica  \\\n",
       "0     2022                     27                         2022-07-03   \n",
       "1     2022                     28                         2022-07-10   \n",
       "2     2022                     28                         2022-07-10   \n",
       "3     2022                     28                         2022-07-10   \n",
       "4     2022                     31                         2022-07-31   \n",
       "...    ...                    ...                                ...   \n",
       "1957  2023                     15                         2023-04-09   \n",
       "1958  2023                     18                         2023-04-30   \n",
       "1959  2023                     20                         2023-05-14   \n",
       "1960  2023                      8                         2023-02-19   \n",
       "1961  2023                     11                         2023-03-12   \n",
       "\n",
       "     grupo_etario departamento_residencia  n_notificaciones  \\\n",
       "0         [40,50)               COMUNA 15                 1   \n",
       "1         [20,30)                COMUNA 5                 1   \n",
       "2         [40,50)               COMUNA 15                 1   \n",
       "3         [40,50)                COMUNA 7                 1   \n",
       "4         [30,40)                COMUNA 6                 1   \n",
       "...           ...                     ...               ...   \n",
       "1957     [90,100)               COMUNA 13                 0   \n",
       "1958      [10,20)                COMUNA 2                 0   \n",
       "1959      [10,20)                COMUNA 2                 0   \n",
       "1960      [70,80)               COMUNA 11                 0   \n",
       "1961      [70,80)               COMUNA 14                 0   \n",
       "\n",
       "      n_confirmados_probables_fis  n_confirmados_por_laboratorio  \\\n",
       "0                               0                              0   \n",
       "1                               0                              0   \n",
       "2                               0                              0   \n",
       "3                               0                              0   \n",
       "4                               0                              0   \n",
       "...                           ...                            ...   \n",
       "1957                            1                              1   \n",
       "1958                            1                              0   \n",
       "1959                            1                              0   \n",
       "1960                            0                              0   \n",
       "1961                            0                              0   \n",
       "\n",
       "      n_internados_fecha_internacion  n_internados_uti_fecha_internacion  \\\n",
       "0                                  0                                   0   \n",
       "1                                  0                                   0   \n",
       "2                                  0                                   0   \n",
       "3                                  0                                   0   \n",
       "4                                  0                                   0   \n",
       "...                              ...                                 ...   \n",
       "1957                               1                                   0   \n",
       "1958                               0                                   0   \n",
       "1959                               0                                   0   \n",
       "1960                               1                                   0   \n",
       "1961                               1                                   0   \n",
       "\n",
       "      n_fallecidos_confirmados_por_laboratorio  \n",
       "0                                            0  \n",
       "1                                            0  \n",
       "2                                            0  \n",
       "3                                            0  \n",
       "4                                            0  \n",
       "...                                        ...  \n",
       "1957                                         0  \n",
       "1958                                         0  \n",
       "1959                                         0  \n",
       "1960                                         0  \n",
       "1961                                         0  \n",
       "\n",
       "[1962 rows x 11 columns]>"
      ]
     },
     "execution_count": 31,
     "metadata": {},
     "output_type": "execute_result"
    }
   ],
   "source": [
    "dfd.describe"
   ]
  },
  {
   "cell_type": "code",
   "execution_count": 32,
   "id": "562ee31e",
   "metadata": {},
   "outputs": [
    {
     "data": {
      "text/html": [
       "<div>\n",
       "<style scoped>\n",
       "    .dataframe tbody tr th:only-of-type {\n",
       "        vertical-align: middle;\n",
       "    }\n",
       "\n",
       "    .dataframe tbody tr th {\n",
       "        vertical-align: top;\n",
       "    }\n",
       "\n",
       "    .dataframe thead th {\n",
       "        text-align: right;\n",
       "    }\n",
       "</style>\n",
       "<table border=\"1\" class=\"dataframe\">\n",
       "  <thead>\n",
       "    <tr style=\"text-align: right;\">\n",
       "      <th></th>\n",
       "      <th>ano</th>\n",
       "      <th>semana_epidemiologica</th>\n",
       "      <th>fecha_inicio_semana_epidemiologica</th>\n",
       "      <th>grupo_etario</th>\n",
       "      <th>departamento_residencia</th>\n",
       "      <th>n_notificaciones</th>\n",
       "      <th>n_confirmados_probables_fis</th>\n",
       "      <th>n_confirmados_por_laboratorio</th>\n",
       "      <th>n_internados_fecha_internacion</th>\n",
       "      <th>n_internados_uti_fecha_internacion</th>\n",
       "      <th>n_fallecidos_confirmados_por_laboratorio</th>\n",
       "    </tr>\n",
       "  </thead>\n",
       "  <tbody>\n",
       "    <tr>\n",
       "      <th>0</th>\n",
       "      <td>False</td>\n",
       "      <td>False</td>\n",
       "      <td>False</td>\n",
       "      <td>False</td>\n",
       "      <td>False</td>\n",
       "      <td>False</td>\n",
       "      <td>False</td>\n",
       "      <td>False</td>\n",
       "      <td>False</td>\n",
       "      <td>False</td>\n",
       "      <td>False</td>\n",
       "    </tr>\n",
       "    <tr>\n",
       "      <th>1</th>\n",
       "      <td>False</td>\n",
       "      <td>False</td>\n",
       "      <td>False</td>\n",
       "      <td>False</td>\n",
       "      <td>False</td>\n",
       "      <td>False</td>\n",
       "      <td>False</td>\n",
       "      <td>False</td>\n",
       "      <td>False</td>\n",
       "      <td>False</td>\n",
       "      <td>False</td>\n",
       "    </tr>\n",
       "    <tr>\n",
       "      <th>2</th>\n",
       "      <td>False</td>\n",
       "      <td>False</td>\n",
       "      <td>False</td>\n",
       "      <td>False</td>\n",
       "      <td>False</td>\n",
       "      <td>False</td>\n",
       "      <td>False</td>\n",
       "      <td>False</td>\n",
       "      <td>False</td>\n",
       "      <td>False</td>\n",
       "      <td>False</td>\n",
       "    </tr>\n",
       "    <tr>\n",
       "      <th>3</th>\n",
       "      <td>False</td>\n",
       "      <td>False</td>\n",
       "      <td>False</td>\n",
       "      <td>False</td>\n",
       "      <td>False</td>\n",
       "      <td>False</td>\n",
       "      <td>False</td>\n",
       "      <td>False</td>\n",
       "      <td>False</td>\n",
       "      <td>False</td>\n",
       "      <td>False</td>\n",
       "    </tr>\n",
       "    <tr>\n",
       "      <th>4</th>\n",
       "      <td>False</td>\n",
       "      <td>False</td>\n",
       "      <td>False</td>\n",
       "      <td>False</td>\n",
       "      <td>False</td>\n",
       "      <td>False</td>\n",
       "      <td>False</td>\n",
       "      <td>False</td>\n",
       "      <td>False</td>\n",
       "      <td>False</td>\n",
       "      <td>False</td>\n",
       "    </tr>\n",
       "    <tr>\n",
       "      <th>...</th>\n",
       "      <td>...</td>\n",
       "      <td>...</td>\n",
       "      <td>...</td>\n",
       "      <td>...</td>\n",
       "      <td>...</td>\n",
       "      <td>...</td>\n",
       "      <td>...</td>\n",
       "      <td>...</td>\n",
       "      <td>...</td>\n",
       "      <td>...</td>\n",
       "      <td>...</td>\n",
       "    </tr>\n",
       "    <tr>\n",
       "      <th>1957</th>\n",
       "      <td>False</td>\n",
       "      <td>False</td>\n",
       "      <td>False</td>\n",
       "      <td>False</td>\n",
       "      <td>False</td>\n",
       "      <td>False</td>\n",
       "      <td>False</td>\n",
       "      <td>False</td>\n",
       "      <td>False</td>\n",
       "      <td>False</td>\n",
       "      <td>False</td>\n",
       "    </tr>\n",
       "    <tr>\n",
       "      <th>1958</th>\n",
       "      <td>False</td>\n",
       "      <td>False</td>\n",
       "      <td>False</td>\n",
       "      <td>False</td>\n",
       "      <td>False</td>\n",
       "      <td>False</td>\n",
       "      <td>False</td>\n",
       "      <td>False</td>\n",
       "      <td>False</td>\n",
       "      <td>False</td>\n",
       "      <td>False</td>\n",
       "    </tr>\n",
       "    <tr>\n",
       "      <th>1959</th>\n",
       "      <td>False</td>\n",
       "      <td>False</td>\n",
       "      <td>False</td>\n",
       "      <td>False</td>\n",
       "      <td>False</td>\n",
       "      <td>False</td>\n",
       "      <td>False</td>\n",
       "      <td>False</td>\n",
       "      <td>False</td>\n",
       "      <td>False</td>\n",
       "      <td>False</td>\n",
       "    </tr>\n",
       "    <tr>\n",
       "      <th>1960</th>\n",
       "      <td>False</td>\n",
       "      <td>False</td>\n",
       "      <td>False</td>\n",
       "      <td>False</td>\n",
       "      <td>False</td>\n",
       "      <td>False</td>\n",
       "      <td>False</td>\n",
       "      <td>False</td>\n",
       "      <td>False</td>\n",
       "      <td>False</td>\n",
       "      <td>False</td>\n",
       "    </tr>\n",
       "    <tr>\n",
       "      <th>1961</th>\n",
       "      <td>False</td>\n",
       "      <td>False</td>\n",
       "      <td>False</td>\n",
       "      <td>False</td>\n",
       "      <td>False</td>\n",
       "      <td>False</td>\n",
       "      <td>False</td>\n",
       "      <td>False</td>\n",
       "      <td>False</td>\n",
       "      <td>False</td>\n",
       "      <td>False</td>\n",
       "    </tr>\n",
       "  </tbody>\n",
       "</table>\n",
       "<p>1962 rows × 11 columns</p>\n",
       "</div>"
      ],
      "text/plain": [
       "        ano  semana_epidemiologica  fecha_inicio_semana_epidemiologica  \\\n",
       "0     False                  False                               False   \n",
       "1     False                  False                               False   \n",
       "2     False                  False                               False   \n",
       "3     False                  False                               False   \n",
       "4     False                  False                               False   \n",
       "...     ...                    ...                                 ...   \n",
       "1957  False                  False                               False   \n",
       "1958  False                  False                               False   \n",
       "1959  False                  False                               False   \n",
       "1960  False                  False                               False   \n",
       "1961  False                  False                               False   \n",
       "\n",
       "      grupo_etario  departamento_residencia  n_notificaciones  \\\n",
       "0            False                    False             False   \n",
       "1            False                    False             False   \n",
       "2            False                    False             False   \n",
       "3            False                    False             False   \n",
       "4            False                    False             False   \n",
       "...            ...                      ...               ...   \n",
       "1957         False                    False             False   \n",
       "1958         False                    False             False   \n",
       "1959         False                    False             False   \n",
       "1960         False                    False             False   \n",
       "1961         False                    False             False   \n",
       "\n",
       "      n_confirmados_probables_fis  n_confirmados_por_laboratorio  \\\n",
       "0                           False                          False   \n",
       "1                           False                          False   \n",
       "2                           False                          False   \n",
       "3                           False                          False   \n",
       "4                           False                          False   \n",
       "...                           ...                            ...   \n",
       "1957                        False                          False   \n",
       "1958                        False                          False   \n",
       "1959                        False                          False   \n",
       "1960                        False                          False   \n",
       "1961                        False                          False   \n",
       "\n",
       "      n_internados_fecha_internacion  n_internados_uti_fecha_internacion  \\\n",
       "0                              False                               False   \n",
       "1                              False                               False   \n",
       "2                              False                               False   \n",
       "3                              False                               False   \n",
       "4                              False                               False   \n",
       "...                              ...                                 ...   \n",
       "1957                           False                               False   \n",
       "1958                           False                               False   \n",
       "1959                           False                               False   \n",
       "1960                           False                               False   \n",
       "1961                           False                               False   \n",
       "\n",
       "      n_fallecidos_confirmados_por_laboratorio  \n",
       "0                                        False  \n",
       "1                                        False  \n",
       "2                                        False  \n",
       "3                                        False  \n",
       "4                                        False  \n",
       "...                                        ...  \n",
       "1957                                     False  \n",
       "1958                                     False  \n",
       "1959                                     False  \n",
       "1960                                     False  \n",
       "1961                                     False  \n",
       "\n",
       "[1962 rows x 11 columns]"
      ]
     },
     "execution_count": 32,
     "metadata": {},
     "output_type": "execute_result"
    }
   ],
   "source": [
    "dfd.isnull()"
   ]
  },
  {
   "cell_type": "code",
   "execution_count": 33,
   "id": "5be34b75",
   "metadata": {},
   "outputs": [
    {
     "name": "stdout",
     "output_type": "stream",
     "text": [
      "(1962, 11)\n"
     ]
    }
   ],
   "source": [
    "dfdu=dfd.drop_duplicates()\n",
    "print(dfdu.shape) # no se encuentran duplicados"
   ]
  },
  {
   "cell_type": "code",
   "execution_count": 34,
   "id": "866479cb",
   "metadata": {},
   "outputs": [],
   "source": [
    "dfd = dfd.drop (columns='fecha_inicio_semana_epidemiologica') # Eliminamos la fecha, dado que tenemos el número de semana en \"semana_epidemiologica\""
   ]
  },
  {
   "cell_type": "code",
   "execution_count": 35,
   "id": "cf77f3b8",
   "metadata": {},
   "outputs": [],
   "source": [
    "label_encoder = LabelEncoder()\n",
    "for column in dfd.columns:\n",
    "    if dfd[column].dtype == 'object':\n",
    "        dfd[column] = label_encoder.fit_transform(dfd[column])"
   ]
  },
  {
   "cell_type": "code",
   "execution_count": 36,
   "id": "9ffa2538",
   "metadata": {},
   "outputs": [
    {
     "data": {
      "text/html": [
       "<div>\n",
       "<style scoped>\n",
       "    .dataframe tbody tr th:only-of-type {\n",
       "        vertical-align: middle;\n",
       "    }\n",
       "\n",
       "    .dataframe tbody tr th {\n",
       "        vertical-align: top;\n",
       "    }\n",
       "\n",
       "    .dataframe thead th {\n",
       "        text-align: right;\n",
       "    }\n",
       "</style>\n",
       "<table border=\"1\" class=\"dataframe\">\n",
       "  <thead>\n",
       "    <tr style=\"text-align: right;\">\n",
       "      <th></th>\n",
       "      <th>ano</th>\n",
       "      <th>semana_epidemiologica</th>\n",
       "      <th>grupo_etario</th>\n",
       "      <th>departamento_residencia</th>\n",
       "      <th>n_notificaciones</th>\n",
       "      <th>n_confirmados_probables_fis</th>\n",
       "      <th>n_confirmados_por_laboratorio</th>\n",
       "      <th>n_internados_fecha_internacion</th>\n",
       "      <th>n_internados_uti_fecha_internacion</th>\n",
       "      <th>n_fallecidos_confirmados_por_laboratorio</th>\n",
       "    </tr>\n",
       "  </thead>\n",
       "  <tbody>\n",
       "    <tr>\n",
       "      <th>0</th>\n",
       "      <td>2022</td>\n",
       "      <td>27</td>\n",
       "      <td>6</td>\n",
       "      <td>6</td>\n",
       "      <td>1</td>\n",
       "      <td>0</td>\n",
       "      <td>0</td>\n",
       "      <td>0</td>\n",
       "      <td>0</td>\n",
       "      <td>0</td>\n",
       "    </tr>\n",
       "    <tr>\n",
       "      <th>1</th>\n",
       "      <td>2022</td>\n",
       "      <td>28</td>\n",
       "      <td>4</td>\n",
       "      <td>10</td>\n",
       "      <td>1</td>\n",
       "      <td>0</td>\n",
       "      <td>0</td>\n",
       "      <td>0</td>\n",
       "      <td>0</td>\n",
       "      <td>0</td>\n",
       "    </tr>\n",
       "  </tbody>\n",
       "</table>\n",
       "</div>"
      ],
      "text/plain": [
       "    ano  semana_epidemiologica  grupo_etario  departamento_residencia  \\\n",
       "0  2022                     27             6                        6   \n",
       "1  2022                     28             4                       10   \n",
       "\n",
       "   n_notificaciones  n_confirmados_probables_fis  \\\n",
       "0                 1                            0   \n",
       "1                 1                            0   \n",
       "\n",
       "   n_confirmados_por_laboratorio  n_internados_fecha_internacion  \\\n",
       "0                              0                               0   \n",
       "1                              0                               0   \n",
       "\n",
       "   n_internados_uti_fecha_internacion  \\\n",
       "0                                   0   \n",
       "1                                   0   \n",
       "\n",
       "   n_fallecidos_confirmados_por_laboratorio  \n",
       "0                                         0  \n",
       "1                                         0  "
      ]
     },
     "execution_count": 36,
     "metadata": {},
     "output_type": "execute_result"
    }
   ],
   "source": [
    "dfd.head (2)"
   ]
  },
  {
   "cell_type": "code",
   "execution_count": 37,
   "id": "bf8fc8fc",
   "metadata": {},
   "outputs": [
    {
     "data": {
      "image/png": "[encoded data removed]",
      "text/plain": [
       "<Figure size 800x500 with 2 Axes>"
      ]
     },
     "metadata": {},
     "output_type": "display_data"
    }
   ],
   "source": [
    "correlation_matrix = dfd.corr(numeric_only=True).round(2)\n",
    "correlation_matrix\n",
    "\n",
    "plt.figure(figsize=(8,5))\n",
    "sns.heatmap(data=correlation_matrix, annot=True)\n",
    "plt.show()"
   ]
  },
  {
   "cell_type": "markdown",
   "id": "1d53c10e",
   "metadata": {},
   "source": [
    "## Se utiliza Backward Elimination para seleccionar variables que nos ayudarán a predecir la variable \"n_confirmados_por_laboratorio\""
   ]
  },
  {
   "cell_type": "code",
   "execution_count": 38,
   "id": "365257a6",
   "metadata": {},
   "outputs": [
    {
     "name": "stderr",
     "output_type": "stream",
     "text": [
      "C:\\Users\\Mariano\\AppData\\Local\\Temp\\ipykernel_6948\\2020082801.py:1: FutureWarning: In a future version of pandas all arguments of DataFrame.drop except for the argument 'labels' will be keyword-only.\n",
      "  X = dfd.drop(\"n_confirmados_por_laboratorio\", 1)\n"
     ]
    }
   ],
   "source": [
    "X = dfd.drop(\"n_confirmados_por_laboratorio\", 1)      \n",
    "y = dfd['n_confirmados_por_laboratorio']           "
   ]
  },
  {
   "cell_type": "markdown",
   "id": "bc6f7314",
   "metadata": {},
   "source": [
    "## Backward Elimination"
   ]
  },
  {
   "cell_type": "code",
   "execution_count": 47,
   "id": "00f233a6",
   "metadata": {},
   "outputs": [],
   "source": [
    "def backward_elimination(data, target,significance_level = 0.05):\n",
    "    features = data.columns.tolist()\n",
    "    while(len(features)>0):\n",
    "        features_with_constant = sm.add_constant(data[features])\n",
    "        p_values = sm.OLS(target, features_with_constant).fit().pvalues[1:]\n",
    "        max_p_value = p_values.max()\n",
    "        if(max_p_value >= significance_level):\n",
    "            excluded_feature = p_values.idxmax()\n",
    "            features.remove(excluded_feature)\n",
    "        else:\n",
    "            break \n",
    "    return features"
   ]
  },
  {
   "cell_type": "code",
   "execution_count": 48,
   "id": "c790aaa9",
   "metadata": {},
   "outputs": [],
   "source": [
    "import numpy as np\n",
    "import statsmodels.api as sm"
   ]
  },
  {
   "cell_type": "code",
   "execution_count": 49,
   "id": "53c3df3a",
   "metadata": {},
   "outputs": [
    {
     "data": {
      "text/plain": [
       "['ano',\n",
       " 'semana_epidemiologica',\n",
       " 'n_notificaciones',\n",
       " 'n_confirmados_probables_fis',\n",
       " 'n_internados_fecha_internacion',\n",
       " 'n_fallecidos_confirmados_por_laboratorio']"
      ]
     },
     "execution_count": 49,
     "metadata": {},
     "output_type": "execute_result"
    }
   ],
   "source": [
    "backward_elimination(X,y)"
   ]
  },
  {
   "cell_type": "code",
   "execution_count": 50,
   "id": "37e3ddb4",
   "metadata": {},
   "outputs": [],
   "source": [
    "X = dfd[['ano',\n",
    " 'semana_epidemiologica',\n",
    " 'n_notificaciones',\n",
    " 'n_confirmados_probables_fis',\n",
    " 'n_internados_fecha_internacion',\n",
    "'n_fallecidos_confirmados_por_laboratorio']]         \n",
    "y = dfd['n_confirmados_por_laboratorio']"
   ]
  },
  {
   "cell_type": "code",
   "execution_count": 51,
   "id": "89d267b2",
   "metadata": {},
   "outputs": [],
   "source": [
    "X_train, X_test, y_train, y_test = train_test_split(X, y, test_size=0.2, random_state=42)"
   ]
  },
  {
   "cell_type": "markdown",
   "id": "bc8d80d7",
   "metadata": {},
   "source": [
    "### Se utiliza Linear Regression con la variable \"n_confirmados_por_laboratorio\""
   ]
  },
  {
   "cell_type": "markdown",
   "id": "66da80a1",
   "metadata": {},
   "source": [
    "## Linear Regression"
   ]
  },
  {
   "cell_type": "code",
   "execution_count": 31,
   "id": "168eba9a",
   "metadata": {},
   "outputs": [
    {
     "name": "stdout",
     "output_type": "stream",
     "text": [
      "Error en datos de train: 0.17384072478415286\n",
      "Error en datos de test: 0.17502211271351756\n",
      "MAE 0.31675235282340525\n",
      "RMSE 0.4183564421800118\n",
      "0.6730359962591825\n"
     ]
    }
   ],
   "source": [
    "modellin = LinearRegression(fit_intercept=True)\n",
    "modellin.fit(X, y)\n",
    "y_pred = modellin.predict(X_test)\n",
    "y_train_pred = modellin.predict(X_train)\n",
    "y_test_pred = modellin.predict(X_test)\n",
    "print('Error en datos de train:', mean_squared_error(y_train, y_train_pred))\n",
    "print('Error en datos de test:', mean_squared_error(y_test, y_test_pred))\n",
    "modellin_train_mse = mean_squared_error(y_train, y_train_pred)\n",
    "modellin_test_mse = mean_squared_error(y_test, y_test_pred)\n",
    "print(\"MAE\",mean_absolute_error(y_test,y_pred))\n",
    "print(\"RMSE\",np.sqrt(mean_squared_error(y_test,y_pred)))\n",
    "r2 = r2_score(y_test,y_pred)\n",
    "print(r2)"
   ]
  },
  {
   "cell_type": "code",
   "execution_count": 53,
   "id": "2e89756a",
   "metadata": {},
   "outputs": [
    {
     "data": {
      "text/html": [
       "<div>\n",
       "<style scoped>\n",
       "    .dataframe tbody tr th:only-of-type {\n",
       "        vertical-align: middle;\n",
       "    }\n",
       "\n",
       "    .dataframe tbody tr th {\n",
       "        vertical-align: top;\n",
       "    }\n",
       "\n",
       "    .dataframe thead th {\n",
       "        text-align: right;\n",
       "    }\n",
       "</style>\n",
       "<table border=\"1\" class=\"dataframe\">\n",
       "  <thead>\n",
       "    <tr style=\"text-align: right;\">\n",
       "      <th></th>\n",
       "      <th>Actual (y)</th>\n",
       "      <th>Predicted (y_hat)</th>\n",
       "    </tr>\n",
       "  </thead>\n",
       "  <tbody>\n",
       "    <tr>\n",
       "      <th>1096</th>\n",
       "      <td>1</td>\n",
       "      <td>1.682571</td>\n",
       "    </tr>\n",
       "    <tr>\n",
       "      <th>572</th>\n",
       "      <td>5</td>\n",
       "      <td>4.869440</td>\n",
       "    </tr>\n",
       "    <tr>\n",
       "      <th>450</th>\n",
       "      <td>3</td>\n",
       "      <td>2.040639</td>\n",
       "    </tr>\n",
       "    <tr>\n",
       "      <th>383</th>\n",
       "      <td>1</td>\n",
       "      <td>0.881205</td>\n",
       "    </tr>\n",
       "    <tr>\n",
       "      <th>1489</th>\n",
       "      <td>3</td>\n",
       "      <td>1.520349</td>\n",
       "    </tr>\n",
       "    <tr>\n",
       "      <th>...</th>\n",
       "      <td>...</td>\n",
       "      <td>...</td>\n",
       "    </tr>\n",
       "    <tr>\n",
       "      <th>1330</th>\n",
       "      <td>2</td>\n",
       "      <td>5.134884</td>\n",
       "    </tr>\n",
       "    <tr>\n",
       "      <th>567</th>\n",
       "      <td>22</td>\n",
       "      <td>16.174403</td>\n",
       "    </tr>\n",
       "    <tr>\n",
       "      <th>618</th>\n",
       "      <td>20</td>\n",
       "      <td>17.093723</td>\n",
       "    </tr>\n",
       "    <tr>\n",
       "      <th>1406</th>\n",
       "      <td>0</td>\n",
       "      <td>-0.932891</td>\n",
       "    </tr>\n",
       "    <tr>\n",
       "      <th>909</th>\n",
       "      <td>1</td>\n",
       "      <td>1.100977</td>\n",
       "    </tr>\n",
       "  </tbody>\n",
       "</table>\n",
       "<p>393 rows × 2 columns</p>\n",
       "</div>"
      ],
      "text/plain": [
       "      Actual (y)  Predicted (y_hat)\n",
       "1096           1           1.682571\n",
       "572            5           4.869440\n",
       "450            3           2.040639\n",
       "383            1           0.881205\n",
       "1489           3           1.520349\n",
       "...          ...                ...\n",
       "1330           2           5.134884\n",
       "567           22          16.174403\n",
       "618           20          17.093723\n",
       "1406           0          -0.932891\n",
       "909            1           1.100977\n",
       "\n",
       "[393 rows x 2 columns]"
      ]
     },
     "execution_count": 53,
     "metadata": {},
     "output_type": "execute_result"
    }
   ],
   "source": [
    "dfd =pd.DataFrame({'Actual (y)': y_test, 'Predicted (y_hat)': y_pred})\n",
    "dfd"
   ]
  },
  {
   "cell_type": "code",
   "execution_count": 54,
   "id": "9489976d",
   "metadata": {},
   "outputs": [
    {
     "data": {
      "image/png": "[encoded data removed]",
      "text/plain": [
       "<Figure size 640x480 with 1 Axes>"
      ]
     },
     "metadata": {},
     "output_type": "display_data"
    }
   ],
   "source": [
    "plt.scatter(y_test, y_pred, color='black', label='Predicc')\n",
    "plt.plot(y_test, y_test, color='red', label='Real')\n",
    "plt.xlabel('Real')\n",
    "plt.ylabel('Predicciones')\n",
    "plt.title('Real vs Predicc')\n",
    "plt.legend()\n",
    "plt.show()"
   ]
  },
  {
   "cell_type": "markdown",
   "id": "279bf9ed",
   "metadata": {},
   "source": [
    "### Se utiliza RandomForestRegressor con la variable \"n_confirmados_por_laboratorio\""
   ]
  },
  {
   "cell_type": "markdown",
   "id": "a6be262a",
   "metadata": {},
   "source": [
    "## RandomForestRegressor"
   ]
  },
  {
   "cell_type": "code",
   "execution_count": 55,
   "id": "bbb2e374",
   "metadata": {},
   "outputs": [
    {
     "name": "stdout",
     "output_type": "stream",
     "text": [
      "Error en datos de train: 0.7089446791909713\n",
      "Error en datos de test: 0.8048378285306684\n",
      "MAE 0.4189735564566373\n",
      "RMSE 0.8971275430676892\n",
      "0.9880754614857485\n"
     ]
    }
   ],
   "source": [
    "modelrfr = RandomForestRegressor(n_estimators=100, random_state=42)\n",
    "modelrfr.fit(X, y)\n",
    "y_pred = modelrfr.predict(X_test)\n",
    "y_train_pred = modelrfr.predict(X_train)\n",
    "y_test_pred = modelrfr.predict(X_test)\n",
    "print('Error en datos de train:', mean_squared_error(y_train, y_train_pred))\n",
    "print('Error en datos de test:', mean_squared_error(y_test, y_test_pred))\n",
    "modelrfr_train_mse = mean_squared_error(y_train, y_train_pred)\n",
    "modelrfr_test_mse = mean_squared_error(y_test, y_test_pred)\n",
    "print(\"MAE\",mean_absolute_error(y_test,y_pred))\n",
    "print(\"RMSE\",np.sqrt(mean_squared_error(y_test,y_pred)))\n",
    "r2 = r2_score(y_test,y_pred)\n",
    "print(r2)"
   ]
  },
  {
   "cell_type": "code",
   "execution_count": 56,
   "id": "2a8f4b8a",
   "metadata": {},
   "outputs": [
    {
     "data": {
      "text/html": [
       "<div>\n",
       "<style scoped>\n",
       "    .dataframe tbody tr th:only-of-type {\n",
       "        vertical-align: middle;\n",
       "    }\n",
       "\n",
       "    .dataframe tbody tr th {\n",
       "        vertical-align: top;\n",
       "    }\n",
       "\n",
       "    .dataframe thead th {\n",
       "        text-align: right;\n",
       "    }\n",
       "</style>\n",
       "<table border=\"1\" class=\"dataframe\">\n",
       "  <thead>\n",
       "    <tr style=\"text-align: right;\">\n",
       "      <th></th>\n",
       "      <th>Actual (y)</th>\n",
       "      <th>Predicted (y_hat)</th>\n",
       "    </tr>\n",
       "  </thead>\n",
       "  <tbody>\n",
       "    <tr>\n",
       "      <th>1096</th>\n",
       "      <td>1</td>\n",
       "      <td>1.050000</td>\n",
       "    </tr>\n",
       "    <tr>\n",
       "      <th>572</th>\n",
       "      <td>5</td>\n",
       "      <td>5.224310</td>\n",
       "    </tr>\n",
       "    <tr>\n",
       "      <th>450</th>\n",
       "      <td>3</td>\n",
       "      <td>2.045095</td>\n",
       "    </tr>\n",
       "    <tr>\n",
       "      <th>383</th>\n",
       "      <td>1</td>\n",
       "      <td>1.000000</td>\n",
       "    </tr>\n",
       "    <tr>\n",
       "      <th>1489</th>\n",
       "      <td>3</td>\n",
       "      <td>3.190000</td>\n",
       "    </tr>\n",
       "    <tr>\n",
       "      <th>...</th>\n",
       "      <td>...</td>\n",
       "      <td>...</td>\n",
       "    </tr>\n",
       "    <tr>\n",
       "      <th>1330</th>\n",
       "      <td>2</td>\n",
       "      <td>3.401667</td>\n",
       "    </tr>\n",
       "    <tr>\n",
       "      <th>567</th>\n",
       "      <td>22</td>\n",
       "      <td>20.870000</td>\n",
       "    </tr>\n",
       "    <tr>\n",
       "      <th>618</th>\n",
       "      <td>20</td>\n",
       "      <td>20.970000</td>\n",
       "    </tr>\n",
       "    <tr>\n",
       "      <th>1406</th>\n",
       "      <td>0</td>\n",
       "      <td>0.000000</td>\n",
       "    </tr>\n",
       "    <tr>\n",
       "      <th>909</th>\n",
       "      <td>1</td>\n",
       "      <td>1.120000</td>\n",
       "    </tr>\n",
       "  </tbody>\n",
       "</table>\n",
       "<p>393 rows × 2 columns</p>\n",
       "</div>"
      ],
      "text/plain": [
       "      Actual (y)  Predicted (y_hat)\n",
       "1096           1           1.050000\n",
       "572            5           5.224310\n",
       "450            3           2.045095\n",
       "383            1           1.000000\n",
       "1489           3           3.190000\n",
       "...          ...                ...\n",
       "1330           2           3.401667\n",
       "567           22          20.870000\n",
       "618           20          20.970000\n",
       "1406           0           0.000000\n",
       "909            1           1.120000\n",
       "\n",
       "[393 rows x 2 columns]"
      ]
     },
     "execution_count": 56,
     "metadata": {},
     "output_type": "execute_result"
    }
   ],
   "source": [
    "dfd =pd.DataFrame({'Actual (y)': y_test, 'Predicted (y_hat)': y_pred})\n",
    "dfd"
   ]
  },
  {
   "cell_type": "code",
   "execution_count": 57,
   "id": "d1339076",
   "metadata": {},
   "outputs": [
    {
     "data": {
      "image/png": "[encoded data removed]",
      "text/plain": [
       "<Figure size 640x480 with 1 Axes>"
      ]
     },
     "metadata": {},
     "output_type": "display_data"
    }
   ],
   "source": [
    "plt.scatter(y_test, y_pred, color='black', label='Predicc')\n",
    "plt.plot(y_test, y_test, color='red', label='Real')\n",
    "plt.xlabel('Real')\n",
    "plt.ylabel('Predicciones')\n",
    "plt.title('Real vs Predicc')\n",
    "plt.legend()\n",
    "plt.show()"
   ]
  },
  {
   "cell_type": "markdown",
   "id": "9b48a154",
   "metadata": {},
   "source": [
    "### En el modelo de Regresión Lineal se puede observar que el error de datos train es menor que datos test, indica que podria haber sobreajuste."
   ]
  },
  {
   "cell_type": "markdown",
   "id": "25780a5a",
   "metadata": {},
   "source": [
    "### En el modelo de RandomForestRegressor, no hay sobreajuste ya que presenta valores muy bajos en los valores de train y test."
   ]
  },
  {
   "cell_type": "code",
   "execution_count": null,
   "id": "0791730b",
   "metadata": {},
   "outputs": [],
   "source": []
  }
 ],
 "metadata": {
  "kernelspec": {
   "display_name": "Python 3 (ipykernel)",
   "language": "python",
   "name": "python3"
  },
  "language_info": {
   "codemirror_mode": {
    "name": "ipython",
    "version": 3
   },
   "file_extension": ".py",
   "mimetype": "text/x-python",
   "name": "python",
   "nbconvert_exporter": "python",
   "pygments_lexer": "ipython3",
   "version": "3.11.4"
  }
 },
 "nbformat": 4,
 "nbformat_minor": 5
}
